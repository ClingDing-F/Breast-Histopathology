{
 "cells": [
  {
   "cell_type": "code",
   "execution_count": 1,
   "metadata": {
    "ExecuteTime": {
     "end_time": "2021-05-06T13:14:17.306248Z",
     "start_time": "2021-05-06T13:13:12.020879Z"
    }
   },
   "outputs": [],
   "source": [
    "import torch\n",
    "from glob import glob\n",
    "from torch.utils.data import TensorDataset, DataLoader, Dataset\n",
    "import torchvision.transforms as transforms\n",
    "import torchvision\n",
    "import torch.nn.functional as F\n",
    "import torch.nn as nn\n",
    "from sklearn.metrics import confusion_matrix\n",
    "from sklearn.metrics import classification_report\n",
    "from sklearn.model_selection import train_test_split\n",
    "import os\n",
    "import numpy as np\n",
    "import pandas as pd\n",
    "import cv2\n",
    "import seaborn as sns\n",
    "import matplotlib.pyplot as plt\n",
    "%matplotlib inline"
   ]
  },
  {
   "cell_type": "code",
   "execution_count": null,
   "metadata": {
    "ExecuteTime": {
     "end_time": "2021-05-06T13:17:29.523561Z",
     "start_time": "2021-05-06T13:14:38.908427Z"
    }
   },
   "outputs": [],
   "source": [
    "path=''\n",
    "imagePatches = glob(path+'/**/*.png', recursive=True)\n",
    "print(len(imagePatches))\n",
    "imagePatches[1]"
   ]
  },
  {
   "cell_type": "code",
   "execution_count": 5,
   "metadata": {
    "ExecuteTime": {
     "end_time": "2021-05-06T13:19:24.302008Z",
     "start_time": "2021-05-06T13:19:24.022576Z"
    }
   },
   "outputs": [],
   "source": [
    "import fnmatch\n",
    "patternZero = '*class0.png'\n",
    "patternOne = '*class1.png'\n",
    "classZero = fnmatch.filter(imagePatches, patternZero)\n",
    "classOne = fnmatch.filter(imagePatches, patternOne)"
   ]
  },
  {
   "cell_type": "code",
   "execution_count": 6,
   "metadata": {
    "ExecuteTime": {
     "end_time": "2021-05-06T13:38:10.920057Z",
     "start_time": "2021-05-06T13:19:25.194904Z"
    }
   },
   "outputs": [],
   "source": [
    "y = []\n",
    "for img in imagePatches:\n",
    "    if img in classZero:\n",
    "        y.append(0)\n",
    "    elif img in classOne:\n",
    "        y.append(1)"
   ]
  },
  {
   "cell_type": "code",
   "execution_count": 7,
   "metadata": {
    "ExecuteTime": {
     "end_time": "2021-05-06T13:38:12.743901Z",
     "start_time": "2021-05-06T13:38:12.147119Z"
    }
   },
   "outputs": [],
   "source": [
    "images_df = pd.DataFrame()\n",
    "images_df[\"images\"] = imagePatches\n",
    "images_df[\"labels\"] = y\n",
    "print(images_df.iloc[0,:][0])\n",
    "images_df.groupby(\"labels\")[\"labels\"].count()"
   ]
  },
  {
   "cell_type": "code",
   "execution_count": 9,
   "metadata": {
    "ExecuteTime": {
     "end_time": "2021-05-06T13:38:16.993024Z",
     "start_time": "2021-05-06T13:38:14.439760Z"
    }
   },
   "outputs": [],
   "source": [
    "images_df.to_csv(\"images_df.csv\")"
   ]
  },
  {
   "cell_type": "markdown",
   "metadata": {
    "ExecuteTime": {
     "end_time": "2021-04-29T16:50:49.375353Z",
     "start_time": "2021-04-29T16:50:49.365584Z"
    }
   },
   "source": [
    "# Get some subdataset"
   ]
  },
  {
   "cell_type": "code",
   "execution_count": null,
   "metadata": {
    "ExecuteTime": {
     "end_time": "2021-05-06T13:14:20.646585Z",
     "start_time": "2021-05-06T13:13:15.518Z"
    }
   },
   "outputs": [],
   "source": [
    "image_df=images_df.sample(frac=0.1)\n",
    "print(image_df.iloc[0,:][0])\n",
    "image_df.groupby(\"labels\")[\"labels\"].count()"
   ]
  },
  {
   "cell_type": "code",
   "execution_count": null,
   "metadata": {
    "ExecuteTime": {
     "end_time": "2021-05-06T13:14:20.648531Z",
     "start_time": "2021-05-06T13:13:16.334Z"
    }
   },
   "outputs": [],
   "source": [
    "train, test = train_test_split(image_df, stratify=image_df.labels, test_size=0.05,random_state=10)\n",
    "train, val = train_test_split(train, stratify=train.labels, test_size=0.2,random_state=10)\n",
    "print(\"Train dataset :{}\".format(len(train)))\n",
    "print(\"val dataset :{}\".format(len(val)))\n",
    "print(\"test dataset :{}\".format(len(test)))"
   ]
  },
  {
   "cell_type": "markdown",
   "metadata": {},
   "source": [
    "# Model and dataloader"
   ]
  },
  {
   "cell_type": "code",
   "execution_count": null,
   "metadata": {
    "ExecuteTime": {
     "end_time": "2021-05-04T12:18:55.480108Z",
     "start_time": "2021-05-04T12:10:10.659Z"
    }
   },
   "outputs": [],
   "source": [
    "## Parameters for model\n",
    "\n",
    "# Hyper parameters\n",
    "num_epochs = 10\n",
    "num_classes = 2\n",
    "batch_size = 100\n",
    "learning_rate = 0.000001\n",
    "\n",
    "# Device configuration\n",
    "device = torch.device('cuda:2' if torch.cuda.is_available() else 'cpu')"
   ]
  },
  {
   "cell_type": "code",
   "execution_count": null,
   "metadata": {
    "ExecuteTime": {
     "end_time": "2021-05-04T12:18:55.482196Z",
     "start_time": "2021-05-04T12:10:10.661Z"
    }
   },
   "outputs": [],
   "source": [
    "class MyDataset(Dataset):\n",
    "    def __init__(self, df_data,transform=None):\n",
    "        super().__init__()\n",
    "        self.df = df_data.values\n",
    "        \n",
    "        self.transform = transform\n",
    "\n",
    "    def __len__(self):\n",
    "        return len(self.df)\n",
    "    \n",
    "    def __getitem__(self, index):\n",
    "        img_path,label = self.df[index]\n",
    "        \n",
    "        image = cv2.imread(img_path)\n",
    "        image = cv2.resize(image, (50,50))\n",
    "        if self.transform is not None:\n",
    "            image = self.transform(image)\n",
    "        return image, label"
   ]
  },
  {
   "cell_type": "code",
   "execution_count": null,
   "metadata": {
    "ExecuteTime": {
     "end_time": "2021-05-04T12:18:55.484303Z",
     "start_time": "2021-05-04T12:10:10.662Z"
    }
   },
   "outputs": [],
   "source": [
    "trans_train=transforms.Compose([transforms.ToPILImage(),\n",
    "                                transforms.Pad(64,padding_mode='reflect'),\n",
    "                                transforms.RandomHorizontalFlip(),\n",
    "                                transforms.RandomVerticalFlip(),\n",
    "                                transforms.RandomRotation(20),\n",
    "                                transforms.ToTensor(),\n",
    "                                transforms.Normalize(mean=[0.5,0.5,0.5],std=[0.5,0.5,0.5])])\n",
    "trans_valid=transforms.Compose([transforms.ToPILImage(),\n",
    "                                transforms.Pad(64,padding_mode='reflect'),\n",
    "                                transforms.ToTensor(),\n",
    "                                transforms.Normalize(mean=[0.5,0.5,0.5],std=[0.5,0.5,0.5])])\n",
    "trans_test=transforms.Compose([transforms.ToPILImage(),\n",
    "                                transforms.Pad(64,padding_mode='reflect'),\n",
    "                                transforms.ToTensor(),\n",
    "                                transforms.Normalize(mean=[0.5,0.5,0.5],std=[0.5,0.5,0.5])])\n",
    "dataset_train=MyDataset(df_data=train, transform=trans_train)\n",
    "dataset_valid=MyDataset(df_data=val, transform=trans_valid)\n",
    "dataset_test=MyDataset(df_data=test, transform=trans_test)\n",
    "\n",
    "loader_train = DataLoader(dataset = dataset_train, batch_size=batch_size, shuffle=True, num_workers=0)\n",
    "loader_valid = DataLoader(dataset = dataset_valid, batch_size=batch_size//2, shuffle=False, num_workers=0)\n",
    "loader_test= DataLoader(dataset = dataset_test, batch_size=batch_size//2, shuffle=False, num_workers=0)"
   ]
  },
  {
   "cell_type": "code",
   "execution_count": null,
   "metadata": {
    "ExecuteTime": {
     "end_time": "2021-05-04T12:18:55.486288Z",
     "start_time": "2021-05-04T12:10:10.663Z"
    }
   },
   "outputs": [],
   "source": [
    "class MyCNN(nn.Module):\n",
    "    def __init__(self):\n",
    "        super(MyCNN,self).__init__()\n",
    "        self.conv1=nn.Conv2d(in_channels=3,out_channels=32,kernel_size=3,padding=2)\n",
    "        self.conv2=nn.Conv2d(in_channels=32,out_channels=64,kernel_size=3,padding=2)\n",
    "        self.conv3=nn.Conv2d(in_channels=64,out_channels=128,kernel_size=3,padding=2)\n",
    "        self.conv4=nn.Conv2d(in_channels=128,out_channels=256,kernel_size=3,padding=2)\n",
    "        self.conv5=nn.Conv2d(in_channels=256,out_channels=512,kernel_size=3,padding=2)\n",
    "#         self.conv6=nn.Conv2d(in_channels=512,out_channels=1024,kernel_size=3,padding=2)\n",
    "        \n",
    "        self.bn1=nn.BatchNorm2d(32)\n",
    "        self.bn2=nn.BatchNorm2d(64)\n",
    "        self.bn3=nn.BatchNorm2d(128)\n",
    "        self.bn4=nn.BatchNorm2d(256)\n",
    "        self.bn5=nn.BatchNorm2d(512)\n",
    "#         self.bn6=nn.BatchNorm2d(1024)\n",
    "        \n",
    "        self.pool=nn.MaxPool2d(kernel_size=2,stride=2)\n",
    "        self.avg=nn.AvgPool2d(4)\n",
    "\n",
    "        self.fc=nn.Linear(512*1*1,2) # final\n",
    "\n",
    "    def forward(self,x):\n",
    "        # relu,leaky_relu\n",
    "        x=self.pool(F.leaky_relu(self.bn1(self.conv1(x))))\n",
    "        x=self.pool(F.leaky_relu(self.bn2(self.conv2(x))))\n",
    "        x=self.pool(F.leaky_relu(self.bn3(self.conv3(x))))\n",
    "        x=self.pool(F.leaky_relu(self.bn4(self.conv4(x))))\n",
    "        x=self.pool(F.leaky_relu(self.bn5(self.conv5(x))))\n",
    "#         x=self.pool(F.leaky_relu(self.bn6(self.conv6(x))))\n",
    "        x=self.avg(x)\n",
    "        \n",
    "#         print(x.shape)\n",
    "        x=x.view(-1,512*1*1)\n",
    "        x=self.fc(x)\n",
    "        return x\n",
    "\n",
    " "
   ]
  },
  {
   "cell_type": "code",
   "execution_count": null,
   "metadata": {
    "ExecuteTime": {
     "end_time": "2021-05-04T12:18:55.488513Z",
     "start_time": "2021-05-04T12:10:10.664Z"
    }
   },
   "outputs": [],
   "source": [
    "model=MyCNN().to(device)"
   ]
  },
  {
   "cell_type": "code",
   "execution_count": null,
   "metadata": {
    "ExecuteTime": {
     "end_time": "2021-05-04T12:18:55.490606Z",
     "start_time": "2021-05-04T12:10:10.665Z"
    }
   },
   "outputs": [],
   "source": [
    "criterion=nn.CrossEntropyLoss()\n",
    "optimizer=torch.optim.Adamax(model.parameters(),lr=learning_rate)\n"
   ]
  },
  {
   "cell_type": "code",
   "execution_count": null,
   "metadata": {
    "ExecuteTime": {
     "end_time": "2021-05-04T12:18:55.492663Z",
     "start_time": "2021-05-04T12:10:10.667Z"
    }
   },
   "outputs": [],
   "source": [
    "total_step = len(loader_train)\n",
    "total_loss = []\n",
    "total_acc=[]\n",
    "all_loss=[]\n",
    "for epoch in range(num_epochs):\n",
    "    inter_loss = 0.0\n",
    "    \n",
    "    total=0\n",
    "    correct=0\n",
    "    \n",
    "    for i, (images, labels) in enumerate(loader_train):\n",
    "        images = images.to(device)\n",
    "        labels = labels.to(device)\n",
    "        # print(images.shape)\n",
    "        # Forward\n",
    "        outputs = model(images)\n",
    "        loss = criterion(outputs, labels)\n",
    "\n",
    "        # backward and optimizer\n",
    "\n",
    "        optimizer.zero_grad()\n",
    "        loss.backward()\n",
    "        optimizer.step()\n",
    "\n",
    "        inter_loss += loss.item()\n",
    "        all_loss.append(loss.item())\n",
    "        \n",
    "        _, predicted = torch.max(outputs.data, 1)\n",
    "        total+= labels.size(0)\n",
    "        correct+= (predicted == labels).sum().item()\n",
    "        acc=((predicted == labels).sum().item()/labels.size(0))\n",
    "        \n",
    "        if(i+1) % 10 == 0:\n",
    "            print('Epoch [{}/{}], Step [{}/{}] Loss:{:4f}'.format(epoch +\n",
    "                  1, num_epochs, i+1, total_step, loss.item()))\n",
    "\n",
    "    total_loss.append(inter_loss/total_step)\n",
    "    total_acc.append(correct/total)\n",
    "    "
   ]
  },
  {
   "cell_type": "code",
   "execution_count": null,
   "metadata": {
    "ExecuteTime": {
     "end_time": "2021-05-04T12:18:55.494747Z",
     "start_time": "2021-05-04T12:10:10.668Z"
    }
   },
   "outputs": [],
   "source": [
    "total_acc"
   ]
  },
  {
   "cell_type": "code",
   "execution_count": null,
   "metadata": {
    "ExecuteTime": {
     "end_time": "2021-05-04T12:18:55.496786Z",
     "start_time": "2021-05-04T12:10:10.669Z"
    }
   },
   "outputs": [],
   "source": [
    "total_loss"
   ]
  },
  {
   "cell_type": "markdown",
   "metadata": {},
   "source": [
    "# result"
   ]
  },
  {
   "cell_type": "code",
   "execution_count": null,
   "metadata": {
    "ExecuteTime": {
     "end_time": "2021-05-04T12:18:55.498909Z",
     "start_time": "2021-05-04T12:10:10.670Z"
    }
   },
   "outputs": [],
   "source": [
    "#定义两个数组\n",
    "# Loss_list = []\n",
    "# Accuracy_list = []\n",
    "\n",
    "# Loss_list.append(train_loss / (len(train_dataset)))\n",
    "# Accuracy_list.append(100 * train_acc / (len(train_dataset)))\n",
    "\n",
    "x1 = range(0, 10)\n",
    "x2 = range(0, 10)\n",
    "y1 = total_acc\n",
    "y2 = total_loss\n",
    "plt.subplot(2, 1, 1)\n",
    "plt.plot(x1, y1, 'o-')\n",
    "plt.title('Train accuracy vs. epoches')\n",
    "plt.ylabel('Train accuracy')\n",
    "plt.subplot(2, 1, 2)\n",
    "plt.plot(x2, y2, '.-')\n",
    "plt.xlabel('Train loss vs. epoches')\n",
    "plt.ylabel('Train loss')\n",
    "plt.show()\n",
    "plt.savefig(\"accuracy_loss.jpg\")\n"
   ]
  },
  {
   "cell_type": "code",
   "execution_count": null,
   "metadata": {
    "ExecuteTime": {
     "end_time": "2021-05-04T12:18:55.501023Z",
     "start_time": "2021-05-04T12:10:10.671Z"
    }
   },
   "outputs": [],
   "source": [
    "torch.save(model.state_dict(), \"./code/H3.pth\")"
   ]
  },
  {
   "cell_type": "code",
   "execution_count": null,
   "metadata": {
    "ExecuteTime": {
     "start_time": "2021-05-04T18:01:58.339Z"
    }
   },
   "outputs": [],
   "source": [
    "model.eval()\n",
    "confusion_matrix = torch.zeros(2, 2)\n",
    "with torch.no_grad():\n",
    "    correct=0\n",
    "    total=0\n",
    "    for images,labels in loader_valid:\n",
    "        images=images.to(device)\n",
    "        labels=labels.to(device)\n",
    "        ouputs=model(images)\n",
    "        _,predicted=torch.max(ouputs.data,1)\n",
    "        total+=labels.size(0)\n",
    "\n",
    "        correct+=(predicted==labels).sum().item()\n",
    "        for t,p in zip(labels.view(-1),predicted.view(-1)):\n",
    "              confusion_matrix[t.long(),p.long()]+=1\n",
    "\n",
    "    print('Test Accuracy of the model on the test images: {} %'.format(100 * correct / total))"
   ]
  },
  {
   "cell_type": "code",
   "execution_count": null,
   "metadata": {
    "ExecuteTime": {
     "end_time": "2021-05-04T12:18:55.505297Z",
     "start_time": "2021-05-04T12:10:10.673Z"
    }
   },
   "outputs": [],
   "source": [
    "confusion_matrix"
   ]
  },
  {
   "cell_type": "code",
   "execution_count": null,
   "metadata": {
    "ExecuteTime": {
     "end_time": "2021-05-04T12:18:55.507232Z",
     "start_time": "2021-05-04T12:10:10.674Z"
    }
   },
   "outputs": [],
   "source": [
    "import numpy as np\n",
    "import matplotlib.pyplot as plt\n",
    "classes = ['0','1']\n",
    "confusion_matrix = np.array([(3335,458),(385,1095)],dtype=np.float64)\n",
    "\n",
    "plt.imshow(confusion_matrix, interpolation='nearest', cmap=plt.cm.Oranges) \n",
    "plt.title('confusion_matrix')\n",
    "plt.colorbar()\n",
    "tick_marks = np.arange(len(classes))\n",
    "plt.xticks(tick_marks, classes, rotation=-45)\n",
    "plt.yticks(tick_marks, classes)\n",
    "\n",
    "thresh = confusion_matrix.max() / 2.\n",
    "\n",
    "iters = np.reshape([[[i,j] for j in range(2)] for i in range(2)],(confusion_matrix.size,2))\n",
    "for i, j in iters:\n",
    "    plt.text(j, i, format(confusion_matrix[i, j])) \n",
    "\n",
    "plt.ylabel('Real label')\n",
    "plt.xlabel('Prediction')\n",
    "plt.tight_layout()\n",
    "plt.show()\n"
   ]
  },
  {
   "cell_type": "code",
   "execution_count": null,
   "metadata": {},
   "outputs": [],
   "source": []
  }
 ],
 "metadata": {
  "hide_input": false,
  "kernelspec": {
   "display_name": "Python 3",
   "language": "python",
   "name": "python3"
  },
  "language_info": {
   "codemirror_mode": {
    "name": "ipython",
    "version": 3
   },
   "file_extension": ".py",
   "mimetype": "text/x-python",
   "name": "python",
   "nbconvert_exporter": "python",
   "pygments_lexer": "ipython3",
   "version": "3.8.3"
  },
  "toc": {
   "base_numbering": 1,
   "nav_menu": {},
   "number_sections": true,
   "sideBar": true,
   "skip_h1_title": false,
   "title_cell": "Table of Contents",
   "title_sidebar": "Contents",
   "toc_cell": false,
   "toc_position": {},
   "toc_section_display": true,
   "toc_window_display": false
  },
  "varInspector": {
   "cols": {
    "lenName": 16,
    "lenType": 16,
    "lenVar": 40
   },
   "kernels_config": {
    "python": {
     "delete_cmd_postfix": "",
     "delete_cmd_prefix": "del ",
     "library": "var_list.py",
     "varRefreshCmd": "print(var_dic_list())"
    },
    "r": {
     "delete_cmd_postfix": ") ",
     "delete_cmd_prefix": "rm(",
     "library": "var_list.r",
     "varRefreshCmd": "cat(var_dic_list()) "
    }
   },
   "types_to_exclude": [
    "module",
    "function",
    "builtin_function_or_method",
    "instance",
    "_Feature"
   ],
   "window_display": false
  }
 },
 "nbformat": 4,
 "nbformat_minor": 4
}
